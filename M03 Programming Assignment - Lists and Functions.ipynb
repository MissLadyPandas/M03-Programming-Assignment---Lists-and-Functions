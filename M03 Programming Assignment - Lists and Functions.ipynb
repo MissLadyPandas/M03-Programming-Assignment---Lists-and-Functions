{
 "cells": [
  {
   "cell_type": "code",
   "execution_count": 8,
   "id": "ac34fb5a-be38-4de2-8390-278d211d34c5",
   "metadata": {},
   "outputs": [
    {
     "name": "stdout",
     "output_type": "stream",
     "text": [
      "After capitalizing 'cinderella': ['mozzarella', 'Cinderella', 'salmonella']\n",
      "After making 'mozzarella' uppercase: ['MOZZARELLA', 'Cinderella', 'salmonella']\n",
      "After removing 'salmonella': ['MOZZARELLA', 'Cinderella']\n",
      "After manipulating 'Harpo': Oprah\n"
     ]
    }
   ],
   "source": [
    "# 7.4 Make a list called things with these three strings as elements: \"mozzarella\", \"cinderella\", \"salmonella\".\n",
    "things = [\"mozzarella\", \"cinderella\", \"salmonella\"]\n",
    "\n",
    "# 7.5 Capitalize the element in things that refers to a person and then print the list. Did it change the element in the list?\n",
    "things[1] = things[1].capitalize()\n",
    "print(\"After capitalizing 'cinderella':\", things)\n",
    "\n",
    "# 7.6 Make the cheesy element of things all uppercase and then print the list.\n",
    "things[0] = things[0].upper()\n",
    "print(\"After making 'mozzarella' uppercase:\", things)\n",
    "\n",
    "# 7.7 Delete the disease element from things, collect your Nobel Prize, and print the list.\n",
    "things.remove(\"salmonella\")\n",
    "print(\"After removing 'salmonella':\", things)\n",
    "\n",
    "# 7.8 Create a list called surprise with the elements \"Groucho\", \"Chico\", and \"Harpo\".\n",
    "surprise = [\"Groucho\", \"Chico\", \"Harpo\"]\n",
    "\n",
    "# 7.9 Lowercase the last element of the surprise list, reverse it, and then capitalize\n",
    "surprise_last = surprise[-1].lower()[::-1].capitalize()\n",
    "print(\"After manipulating 'Harpo':\", surprise_last)"
   ]
  },
  {
   "cell_type": "code",
   "execution_count": 11,
   "id": "3671e45b-2276-4612-b02e-85e7a8a15670",
   "metadata": {},
   "outputs": [
    {
     "name": "stdout",
     "output_type": "stream",
     "text": [
      "Good function returns: ['Harry', 'Ron', 'Hermione']\n",
      "The third odd number: 5\n"
     ]
    }
   ],
   "source": [
    "# 9.1 Define a function called good() that returns the following list: ['Harry', 'Ron', 'Hermione'].\n",
    "def good():\n",
    "    return ['Harry', 'Ron', 'Hermione']\n",
    "\n",
    "# 9.2 Define a generator function called get_odds() that returns the odd numbers from range(10). \n",
    "# Use a for loop to find and print the third value returned.\n",
    "def get_odds():\n",
    "    for number in range(10):\n",
    "        if number % 2 != 0:\n",
    "            yield number\n",
    "\n",
    "# Finding and printing the third odd value\n",
    "odd_values = get_odds()\n",
    "third_odd = None\n",
    "for i, odd in enumerate(odd_values, 1):\n",
    "    if i == 3:\n",
    "        third_odd = odd\n",
    "        break\n",
    "\n",
    "# Call the good() function and print its return value\n",
    "print(\"Good function returns:\", good())\n",
    "\n",
    "# Call the get_odds() generator function, to find the third odd number, and print it\n",
    "third_odd_value = None\n",
    "for index, number in enumerate(get_odds(), start=1):\n",
    "    if index == 3:\n",
    "        third_odd_value = number\n",
    "        break\n",
    "\n",
    "print(\"The third odd number:\", third_odd_value)\n"
   ]
  }
 ],
 "metadata": {
  "kernelspec": {
   "display_name": "Python 3 (ipykernel)",
   "language": "python",
   "name": "python3"
  },
  "language_info": {
   "codemirror_mode": {
    "name": "ipython",
    "version": 3
   },
   "file_extension": ".py",
   "mimetype": "text/x-python",
   "name": "python",
   "nbconvert_exporter": "python",
   "pygments_lexer": "ipython3",
   "version": "3.11.7"
  }
 },
 "nbformat": 4,
 "nbformat_minor": 5
}
